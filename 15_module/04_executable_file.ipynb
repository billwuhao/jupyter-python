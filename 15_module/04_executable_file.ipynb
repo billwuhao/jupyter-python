{
 "cells": [
  {
   "cell_type": "markdown",
   "metadata": {},
   "source": [
    "## 可执行文件"
   ]
  },
  {
   "cell_type": "markdown",
   "metadata": {},
   "source": [
    "每一个 `.py` 文件模块，都是 Python 的可执行文件。文件内容可以为空，但执行什么也不发生。\n",
    "\n",
    "你可以在某些编辑工具里打开文件执行，也可以在命令行使用 `python 文件路径` 或 `python -m 模块` 的方式执行。这些方式都是主模块中直接执行文件。\n",
    "\n",
    "主模块（你正在运行代码的当前模块）的 `__name__` 属性总是 `'__main__'` （`__main__` 是一个在解释器启动时直接初始化的特殊模块），因此直接执行文件，`if __name__ == '__main__':` 语句下的代码一定会被执行，而如果导入到其他模块则不会。"
   ]
  },
  {
   "cell_type": "code",
   "execution_count": 1,
   "metadata": {},
   "outputs": [
    {
     "data": {
      "text/plain": [
       "'__main__'"
      ]
     },
     "execution_count": 1,
     "metadata": {},
     "output_type": "execute_result"
    }
   ],
   "source": [
    "__name__"
   ]
  },
  {
   "cell_type": "markdown",
   "metadata": {},
   "source": [
    "下面举例说明：\n",
    "\n",
    "当前文件路径下，有一个 `mycode` 的包，包里有 `space.py`，`mycode.py` 和 `xue.py`，三个模块，内容如下："
   ]
  },
  {
   "cell_type": "code",
   "execution_count": 2,
   "metadata": {},
   "outputs": [],
   "source": [
    "# space.py 为空"
   ]
  },
  {
   "cell_type": "code",
   "execution_count": 3,
   "metadata": {},
   "outputs": [
    {
     "name": "stdout",
     "output_type": "stream",
     "text": [
      "mycode\n",
      "自学是门手艺\n"
     ]
    }
   ],
   "source": [
    "# mycode.py\n",
    "print('mycode')\n",
    "\n",
    "from mycode import xue\n",
    "\n",
    "if __name__ == '__main__':\n",
    "    print(xue.msg)"
   ]
  },
  {
   "cell_type": "code",
   "execution_count": 4,
   "metadata": {},
   "outputs": [],
   "source": [
    "# xue.py\n",
    "msg = '自学是门手艺'"
   ]
  },
  {
   "cell_type": "markdown",
   "metadata": {},
   "source": [
    "直接执行效果如上。下面使用命令执行（`%run` 是 jupyter 的魔法命令，终端请改为 `python`）："
   ]
  },
  {
   "cell_type": "code",
   "execution_count": 5,
   "metadata": {},
   "outputs": [],
   "source": [
    "# 文件路径必须带 .py，可以是相对或绝对路径\n",
    "%run mycode/space.py "
   ]
  },
  {
   "cell_type": "code",
   "execution_count": 6,
   "metadata": {},
   "outputs": [
    {
     "name": "stdout",
     "output_type": "stream",
     "text": [
      "mycode\n",
      "自学是门手艺\n"
     ]
    }
   ],
   "source": [
    "%run mycode/mycode.py"
   ]
  },
  {
   "cell_type": "code",
   "execution_count": 7,
   "metadata": {},
   "outputs": [
    {
     "name": "stdout",
     "output_type": "stream",
     "text": [
      "mycode\n",
      "自学是门手艺\n"
     ]
    }
   ],
   "source": [
    "import warnings # 忽略警告\n",
    "warnings.filterwarnings(\"ignore\") \n",
    "\n",
    "# 模块可以使用属性表示法，但不能有 .py\n",
    "%run -m mycode.mycode "
   ]
  },
  {
   "cell_type": "code",
   "execution_count": 8,
   "metadata": {},
   "outputs": [
    {
     "name": "stdout",
     "output_type": "stream",
     "text": [
      "mycode\n"
     ]
    }
   ],
   "source": [
    "# 导入则不会执行 if __name__ == '__main__': 语句下的代码\n",
    "import mycode.mycode"
   ]
  }
 ],
 "metadata": {
  "kernelspec": {
   "display_name": "Python 3",
   "language": "python",
   "name": "python3"
  },
  "language_info": {
   "codemirror_mode": {
    "name": "ipython",
    "version": 3
   },
   "file_extension": ".py",
   "mimetype": "text/x-python",
   "name": "python",
   "nbconvert_exporter": "python",
   "pygments_lexer": "ipython3",
   "version": "3.8.3"
  }
 },
 "nbformat": 4,
 "nbformat_minor": 4
}
